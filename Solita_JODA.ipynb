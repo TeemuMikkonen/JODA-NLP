{
  "nbformat": 4,
  "nbformat_minor": 0,
  "metadata": {
    "colab": {
      "name": "Solita_JODA.ipynb",
      "provenance": [],
      "collapsed_sections": [],
      "toc_visible": true
    },
    "kernelspec": {
      "name": "python3",
      "display_name": "Python 3"
    },
    "language_info": {
      "name": "python"
    }
  },
  "cells": [
    {
      "cell_type": "code",
      "metadata": {
        "id": "LnnBRhPTkAU8"
      },
      "source": [
        "%%capture\n",
        "!pip install awscli"
      ],
      "execution_count": null,
      "outputs": []
    },
    {
      "cell_type": "markdown",
      "metadata": {
        "id": "TxmKopXQZrMR"
      },
      "source": [
        "![solitalogo.png](data:image/png;base64,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)"
      ]
    },
    {
      "cell_type": "markdown",
      "metadata": {
        "id": "5VJIPtyRavTu"
      },
      "source": [
        "# Solita NLP - Johdatus datatieteisiin\n",
        "Vierailuluento 13.4.2021"
      ]
    },
    {
      "cell_type": "markdown",
      "metadata": {
        "id": "6chLLf03a6DO"
      },
      "source": [
        "(Slide aiheesta Teemu Mikkonen / Solita)"
      ]
    },
    {
      "cell_type": "markdown",
      "metadata": {
        "id": "tjs2cUtmW2d6"
      },
      "source": [
        "## Mitä NLP on?\n",
        "\n",
        "- Yksi datatieteiden erityisala, jossa datalähteenä on luonnollinen kieli\n",
        "- Luonnollinen kieli on luonteeltaan rakenteetonta, joka asettaa datatieteiden näkökulmasta haasteita siinä, miten sitä voidaan käyttää datalähteenä.\n",
        "- Olennaista on tekstin esikäsittely ja piirteiden erottaminen, jotka tähtäävät tietynlaiseen rakenteen luomiseen ja tekstin muuntamiseen laskettavaan, numeraaliseen muotoon.\n",
        "- Yleisiä NLP:n käyttökohteita ovat mm. chatbotit, automaattiset konekäännökset, tekstin luokittelu ja tekstimassojen (korpus) analysointi\n",
        "- NLP ei usein ole vain yksin käytetty käyttötapaus, vaan se usein linkittyy johonkin muuhun data/koneoppimisratkaisuun. NLP:n avulla voidaan esimerkiksi tehdä piirteiden eroitus, jolloin saadaan opetusdataan yksi ulottuvuus lisää."
      ]
    },
    {
      "cell_type": "markdown",
      "metadata": {
        "id": "-NqPi66gboCL"
      },
      "source": [
        "## Google Colaboratory"
      ]
    },
    {
      "cell_type": "markdown",
      "metadata": {
        "id": "CclJlW-Ab1vn"
      },
      "source": [
        "- Googlen ylläpitämä ilmainen Notebook-palvelu\n",
        "- Helppo jakaa koodia ja työskennellä yhdessä mm. dataprojekteissa.\n",
        "- Saatavilla myös laskentatehoa (GPU & TPU -prosessointi)\n",
        "  >- Yläpalkki\n",
        "  >- Runtime\n",
        "  >- Change runtime type\n",
        "  >- Hardware accelerator\n",
        "  >- GPU \n",
        "\n",
        "- Tähän harjoitukseen ei kuitenkaan tarvita lisälaskentatehoa (fastText-työkalu on CPU-pohjainen)\n",
        "- HUOM. Saatavat laskentaresurssit riippuvat vapaana olevasta kapasiteetista, laskentateho ei näin ollen ole vakio. \n",
        "\n",
        "#### Hyödyllisiä pikakomentoja\n",
        "> - ctrl/cmd + enter = suorita solu\n",
        "> - shift + enter = suorita solu ja siirry seuraavaan\n",
        "> - ctrl/cmd + m + b = luo solu alapuolelle\n",
        "> - ctrl/cmd + m + b = luo solu yläpuolelle\n",
        "> - ctrl/cmd + d + d = poista solut\n",
        "\n"
      ]
    },
    {
      "cell_type": "markdown",
      "metadata": {
        "id": "pzoOb8y8bBJC"
      },
      "source": [
        "## Eduskuntadatan luokittelu - ministerien vastaukset kirjallisiin kysymyksiin"
      ]
    },
    {
      "cell_type": "markdown",
      "metadata": {
        "id": "VYkbBt6QkwJ8"
      },
      "source": [
        "Data haettu repostoriosta https://github.com/aajanki/eduskunta-vkk (Antti Aajanki)"
      ]
    },
    {
      "cell_type": "markdown",
      "metadata": {
        "id": "hgOXTEo3bkRA"
      },
      "source": [
        "Tähän esimerkkiin tarvittava data, sekä listaus tarvittavista Python-kirjastoista ladataan AWS S3-palvelusta"
      ]
    },
    {
      "cell_type": "code",
      "metadata": {
        "colab": {
          "base_uri": "https://localhost:8080/"
        },
        "id": "clsxtRmks0ZY",
        "outputId": "d381beba-4314-4ce0-b8d2-2cefcbb8ad30"
      },
      "source": [
        "#Haetaan pakettidata ja hukkasanalista avoimesta AWS S3-bucketista\n",
        "!aws s3 --no-sign-request cp s3://nlpluentomateriaalit/requirements.txt requirements.txt\n",
        "!aws s3 --no-sign-request cp s3://nlpluentomateriaalit/stopwords.txt stopwords.txt"
      ],
      "execution_count": null,
      "outputs": [
        {
          "output_type": "stream",
          "text": [
            "Completed 96 Bytes/96 Bytes (216 Bytes/s) with 1 file(s) remaining\rdownload: s3://nlpluentomateriaalit/requirements.txt to ./requirements.txt\n"
          ],
          "name": "stdout"
        }
      ]
    },
    {
      "cell_type": "code",
      "metadata": {
        "id": "Fq1LT_giYb7J",
        "colab": {
          "base_uri": "https://localhost:8080/",
          "height": 623
        },
        "outputId": "15d34a70-c266-4dce-ad42-a95b13778235"
      },
      "source": [
        "\n",
        "#Asennetaan tarvittavat kirjastot haetun requirements-tiedoston perusteella\n",
        "!pip install -r requirements.txt\n",
        "\n",
        "#Asennetaan voikko-kirjasto suoraan versionhallinnasta\n",
        "!sudo apt -y install -y voikko-fi python-libvoikko"
      ],
      "execution_count": null,
      "outputs": [
        {
          "output_type": "stream",
          "text": [
            "Requirement already satisfied: fasttext==0.9.2 in /usr/local/lib/python3.7/dist-packages (from -r requirements.txt (line 1)) (0.9.2)\n",
            "Requirement already satisfied: numpy==1.19.5 in /usr/local/lib/python3.7/dist-packages (from -r requirements.txt (line 2)) (1.19.5)\n",
            "Collecting pandas==1.1.0\n",
            "\u001b[?25l  Downloading https://files.pythonhosted.org/packages/94/b1/f77f49cc7cc538b247f30c2ae7e3a50f29e44f0b1af32ff4869d7de3c762/pandas-1.1.0-cp37-cp37m-manylinux1_x86_64.whl (10.5MB)\n",
            "\u001b[K     |████████████████████████████████| 10.5MB 1.1MB/s \n",
            "\u001b[?25hRequirement already satisfied: scikit-learn==0.21.3 in /usr/local/lib/python3.7/dist-packages (from -r requirements.txt (line 4)) (0.21.3)\n",
            "Requirement already satisfied: scipy==1.4.1 in /usr/local/lib/python3.7/dist-packages (from -r requirements.txt (line 5)) (1.4.1)\n",
            "Requirement already satisfied: nltk==3.6.1 in /usr/local/lib/python3.7/dist-packages (from -r requirements.txt (line 6)) (3.6.1)\n",
            "Requirement already satisfied: setuptools>=0.7.0 in /usr/local/lib/python3.7/dist-packages (from fasttext==0.9.2->-r requirements.txt (line 1)) (54.2.0)\n",
            "Requirement already satisfied: pybind11>=2.2 in /usr/local/lib/python3.7/dist-packages (from fasttext==0.9.2->-r requirements.txt (line 1)) (2.6.2)\n",
            "Requirement already satisfied: pytz>=2017.2 in /usr/local/lib/python3.7/dist-packages (from pandas==1.1.0->-r requirements.txt (line 3)) (2018.9)\n",
            "Requirement already satisfied: python-dateutil>=2.7.3 in /usr/local/lib/python3.7/dist-packages (from pandas==1.1.0->-r requirements.txt (line 3)) (2.8.1)\n",
            "Requirement already satisfied: joblib>=0.11 in /usr/local/lib/python3.7/dist-packages (from scikit-learn==0.21.3->-r requirements.txt (line 4)) (1.0.1)\n",
            "Requirement already satisfied: click in /usr/local/lib/python3.7/dist-packages (from nltk==3.6.1->-r requirements.txt (line 6)) (7.1.2)\n",
            "Requirement already satisfied: tqdm in /usr/local/lib/python3.7/dist-packages (from nltk==3.6.1->-r requirements.txt (line 6)) (4.41.1)\n",
            "Requirement already satisfied: regex in /usr/local/lib/python3.7/dist-packages (from nltk==3.6.1->-r requirements.txt (line 6)) (2019.12.20)\n",
            "Requirement already satisfied: six>=1.5 in /usr/local/lib/python3.7/dist-packages (from python-dateutil>=2.7.3->pandas==1.1.0->-r requirements.txt (line 3)) (1.15.0)\n",
            "Installing collected packages: pandas\n",
            "  Found existing installation: pandas 1.0.4\n",
            "    Uninstalling pandas-1.0.4:\n",
            "      Successfully uninstalled pandas-1.0.4\n",
            "Successfully installed pandas-1.1.0\n"
          ],
          "name": "stdout"
        },
        {
          "output_type": "display_data",
          "data": {
            "application/vnd.colab-display-data+json": {
              "pip_warning": {
                "packages": [
                  "pandas"
                ]
              }
            }
          },
          "metadata": {
            "tags": []
          }
        },
        {
          "output_type": "stream",
          "text": [
            "Reading package lists... Done\n",
            "Building dependency tree       \n",
            "Reading state information... Done\n",
            "voikko-fi is already the newest version (2.2-1).\n",
            "python-libvoikko is already the newest version (4.1.1-1.1).\n",
            "0 upgraded, 0 newly installed, 0 to remove and 31 not upgraded.\n"
          ],
          "name": "stdout"
        }
      ]
    },
    {
      "cell_type": "markdown",
      "metadata": {
        "id": "HxuNnlQDGl9P"
      },
      "source": [
        "Imporit ja hukkasanalistan käsittely"
      ]
    },
    {
      "cell_type": "code",
      "metadata": {
        "id": "UxJ_QI4OSWGW"
      },
      "source": [
        "import pandas as pd \n",
        "import numpy as np\n",
        "import logging\n",
        "import libvoikko #perusmutoistamiseen käyttetty kirjast\n",
        "import fasttext as ft #Mallin opetuskseen käytettävä kirjasto\n",
        "#import nltk #Natural Language Toolkit, hyödyllisiä NLP-perustyökaluja\n",
        "import re #Regex\n",
        "\n",
        "v = libvoikko.Voikko(u\"fi\")\n",
        "\n",
        "with open('stopwords.txt', 'r', encoding='utf8') as sw:\n",
        "    stopwords = sw.readlines()\n",
        "    sw.close()\n",
        "\n",
        "stopwords = [i.split(\"\\n\")[0] for i in stopwords]"
      ],
      "execution_count": null,
      "outputs": []
    },
    {
      "cell_type": "markdown",
      "metadata": {
        "id": "NEsKkAYhZED4"
      },
      "source": [
        "### Stopwordit / Hukkasanat\n",
        "- Sanoja jotka eivät lisää tekstikorpuksen informaatioarvoa\n",
        "- NLP-datan \"kohinaa\"\n",
        "- Prepositioita, partikkeleita yms.\n",
        "- Tässä esimerkissä myös suomen kielen yleisimpiä erisnimiä\n",
        "- Voidaan tehdä toimialakohtaisesti\n",
        "  - Jonkun alan hukkasana voi olla tärkeä toisella alalla\n",
        "  - Esimerkki? "
      ]
    },
    {
      "cell_type": "code",
      "metadata": {
        "colab": {
          "base_uri": "https://localhost:8080/"
        },
        "id": "Q7ujo0MUY1qs",
        "outputId": "cf4ca371-8e6c-4d59-9450-f79a2c62f66c"
      },
      "source": [
        "print(stopwords[20:40])"
      ],
      "execution_count": null,
      "outputs": [
        {
          "output_type": "stream",
          "text": [
            "['aika', 'aikaa', 'aikaan', 'aikaisemmin', 'aikaisin', 'aikajen', 'aikana', 'aikoina', 'aikoo', 'aikovat', 'aina', 'ainakaan', 'ainakin', 'ainoa', 'ainoat', 'aiomme', 'aion', 'aiotte', 'aist', 'aivan']\n"
          ],
          "name": "stdout"
        }
      ]
    },
    {
      "cell_type": "markdown",
      "metadata": {
        "id": "yIckvNTmZy6m"
      },
      "source": [
        "---\n",
        "# Datan lukeminen\n",
        "\n",
        "\n"
      ]
    },
    {
      "cell_type": "markdown",
      "metadata": {
        "id": "EpMEL60GH8Py"
      },
      "source": [
        "Luetaan data edellämainitusta S3-bucketista ja puretaan bzip2-pakatut tiedostot. Data on jo valmiiksi jaettu opetus- ja testijoukkoon."
      ]
    },
    {
      "cell_type": "code",
      "metadata": {
        "id": "XvUXQO4OWdgv",
        "colab": {
          "base_uri": "https://localhost:8080/"
        },
        "outputId": "8ce5ea9f-2316-4180-a00d-1b924159113c"
      },
      "source": [
        "!mkdir data\n",
        "!aws s3 --no-sign-request cp s3://nlpluentomateriaalit/train.csv.bz2 data/train.csv.bz2\n",
        "!aws s3 --no-sign-request cp s3://nlpluentomateriaalit/test.csv.bz2 data/test.csv.bz2\n",
        "!bzip2 -d \"data/train.csv.bz2\"\n",
        "!bzip2 -d \"data/test.csv.bz2\""
      ],
      "execution_count": null,
      "outputs": [
        {
          "output_type": "stream",
          "text": [
            "mkdir: cannot create directory ‘data’: File exists\n",
            "download: s3://nlpluentomateriaalit/train.csv.bz2 to data/train.csv.bz2\n",
            "download: s3://nlpluentomateriaalit/test.csv.bz2 to data/test.csv.bz2\n",
            "bzip2: Output file data/train.csv already exists.\n",
            "bzip2: Output file data/test.csv already exists.\n"
          ],
          "name": "stdout"
        }
      ]
    },
    {
      "cell_type": "markdown",
      "metadata": {
        "id": "Xjx9T_grWfxM"
      },
      "source": [
        "Luetaan data csv-tiedostosta Pandas DataFrameen"
      ]
    },
    {
      "cell_type": "code",
      "metadata": {
        "id": "aom2r5K4ZcA_"
      },
      "source": [
        "df_train = pd.read_csv('data/train.csv').drop_duplicates()\n",
        "df_test = pd.read_csv('data/test.csv').drop_duplicates()"
      ],
      "execution_count": null,
      "outputs": []
    },
    {
      "cell_type": "markdown",
      "metadata": {
        "id": "cKn36QjAdg2t"
      },
      "source": [
        "### Analyysi"
      ]
    },
    {
      "cell_type": "markdown",
      "metadata": {
        "id": "n9hV3PF0HIUZ"
      },
      "source": [
        "Tutustutaan hieman tarkemmin dataan, jota tässä esimerkissä käytetään. Pandas dataframen .head()-funktio näyttää jokaisen sarakkeen viisi ensimmäistä riviä, ja .info() näyttää sarakkeiden tietotyypit ja rivimäärän."
      ]
    },
    {
      "cell_type": "code",
      "metadata": {
        "id": "KmKB0SrTdUUO",
        "colab": {
          "base_uri": "https://localhost:8080/",
          "height": 194
        },
        "outputId": "cd763cf0-2593-4d0d-e3db-658074ef9667"
      },
      "source": [
        "df_train.head()"
      ],
      "execution_count": null,
      "outputs": [
        {
          "output_type": "execute_result",
          "data": {
            "text/html": [
              "<div>\n",
              "<style scoped>\n",
              "    .dataframe tbody tr th:only-of-type {\n",
              "        vertical-align: middle;\n",
              "    }\n",
              "\n",
              "    .dataframe tbody tr th {\n",
              "        vertical-align: top;\n",
              "    }\n",
              "\n",
              "    .dataframe thead th {\n",
              "        text-align: right;\n",
              "    }\n",
              "</style>\n",
              "<table border=\"1\" class=\"dataframe\">\n",
              "  <thead>\n",
              "    <tr style=\"text-align: right;\">\n",
              "      <th></th>\n",
              "      <th>sentence</th>\n",
              "      <th>ministry</th>\n",
              "    </tr>\n",
              "  </thead>\n",
              "  <tbody>\n",
              "    <tr>\n",
              "      <th>0</th>\n",
              "      <td>Hallituksen esityksen 43/2016vp valmistelussa ...</td>\n",
              "      <td>sisäministeri</td>\n",
              "    </tr>\n",
              "    <tr>\n",
              "      <th>1</th>\n",
              "      <td>Suojaosuuden nostaminen vähentäisi kaikkien ve...</td>\n",
              "      <td>oikeus- ja työministeri</td>\n",
              "    </tr>\n",
              "    <tr>\n",
              "      <th>2</th>\n",
              "      <td>Edistämällä puun käyttöä rakentamisessa tuetaa...</td>\n",
              "      <td>maatalous- ja ympäristöministeri</td>\n",
              "    </tr>\n",
              "    <tr>\n",
              "      <th>3</th>\n",
              "      <td>Valvira ja aluehallintovirastot ovat ottaneet ...</td>\n",
              "      <td>perhe- ja peruspalveluministeri</td>\n",
              "    </tr>\n",
              "    <tr>\n",
              "      <th>4</th>\n",
              "      <td>Lainmuutoksessa säädettiin vaativan lääkinnäll...</td>\n",
              "      <td>sosiaali- ja terveysministeri</td>\n",
              "    </tr>\n",
              "  </tbody>\n",
              "</table>\n",
              "</div>"
            ],
            "text/plain": [
              "                                            sentence                          ministry\n",
              "0  Hallituksen esityksen 43/2016vp valmistelussa ...                     sisäministeri\n",
              "1  Suojaosuuden nostaminen vähentäisi kaikkien ve...           oikeus- ja työministeri\n",
              "2  Edistämällä puun käyttöä rakentamisessa tuetaa...  maatalous- ja ympäristöministeri\n",
              "3  Valvira ja aluehallintovirastot ovat ottaneet ...   perhe- ja peruspalveluministeri\n",
              "4  Lainmuutoksessa säädettiin vaativan lääkinnäll...     sosiaali- ja terveysministeri"
            ]
          },
          "metadata": {
            "tags": []
          },
          "execution_count": 5
        }
      ]
    },
    {
      "cell_type": "code",
      "metadata": {
        "colab": {
          "base_uri": "https://localhost:8080/"
        },
        "id": "uSn0hBG_GcdZ",
        "outputId": "1eddbc33-4744-4077-a3b5-947110c9eb5a"
      },
      "source": [
        "df_train.info()"
      ],
      "execution_count": null,
      "outputs": [
        {
          "output_type": "stream",
          "text": [
            "<class 'pandas.core.frame.DataFrame'>\n",
            "Int64Index: 49106 entries, 0 to 49105\n",
            "Data columns (total 2 columns):\n",
            " #   Column    Non-Null Count  Dtype \n",
            "---  ------    --------------  ----- \n",
            " 0   sentence  49106 non-null  object\n",
            " 1   ministry  49106 non-null  object\n",
            "dtypes: object(2)\n",
            "memory usage: 1.1+ MB\n"
          ],
          "name": "stdout"
        }
      ]
    },
    {
      "cell_type": "markdown",
      "metadata": {
        "id": "7V6tzIBSHlkr"
      },
      "source": [
        "Opetusdatan ja testidatan suhde on syytä selvittää, sillä jakoa ei ole muodostettu itse"
      ]
    },
    {
      "cell_type": "code",
      "metadata": {
        "colab": {
          "base_uri": "https://localhost:8080/"
        },
        "id": "CT6lvPdOHw3Y",
        "outputId": "5c823ea8-dbb9-4a3f-e42c-62bd0d351a14"
      },
      "source": [
        "df_test.shape[0] / df_train.shape[0] = "
      ],
      "execution_count": null,
      "outputs": [
        {
          "output_type": "execute_result",
          "data": {
            "text/plain": [
              "0.06109233087606403"
            ]
          },
          "metadata": {
            "tags": []
          },
          "execution_count": 7
        }
      ]
    },
    {
      "cell_type": "markdown",
      "metadata": {
        "id": "rt-NU-j-IR83"
      },
      "source": [
        "### Opetusdata ja labelit\n",
        "\n",
        "Varsinaiseen opetusdataan on syytä pureutua tarkemmin, sillä opetuksen kannalta on merkittävää, kuinka paljon kullekin luokalle on opetusdatassa rivejä. Mikäli ero on merkittävä, se voi aiheuttaa opetuksen painottumista niihin tunnisteisiin, joille on eniten opetusdataa. \n",
        "\n",
        "Tämän vuoksi datasettejä on joskus tarpeen tasapainottaa joko yliotannan tai aliotannan menetelmin. Yliotannassa datasettiin voidaan luoda keinotekoisia arvoja, jotka ovat lähellä kyseisen tunnisteen datapisteitä. Aliotannassa karsitaan yleisimpien luokkien datapisteiden määrää, jotta luokkien datapisteet ovat jakautuvat tasaisemmin."
      ]
    },
    {
      "cell_type": "code",
      "metadata": {
        "id": "cRensirJdXYU",
        "colab": {
          "base_uri": "https://localhost:8080/"
        },
        "outputId": "dfdcc325-4ddd-4213-d881-15c97963c085"
      },
      "source": [
        "#Opetusdatan luokkien jakauma /TODO visu? \n",
        "df_train[\"ministry\"].value_counts()"
      ],
      "execution_count": null,
      "outputs": [
        {
          "output_type": "execute_result",
          "data": {
            "text/plain": [
              "perhe- ja peruspalveluministeri              7923\n",
              "maatalous- ja ympäristöministeri             7365\n",
              "oikeus- ja työministeri                      6057\n",
              "sisäministeri                                5581\n",
              "opetus- ja kulttuuriministeri                5417\n",
              "liikenne- ja viestintäministeri              3691\n",
              "sosiaali- ja terveysministeri                3581\n",
              "valtiovarainministeri                        2718\n",
              "elinkeinoministeri                           1931\n",
              "ulkoministeri                                 946\n",
              "kunta- ja uudistusministeri                   920\n",
              "pääministeri                                  798\n",
              "eurooppa-, kulttuuri- ja urheiluministeri     795\n",
              "puolustusministeri                            756\n",
              "ulkomaankauppa- ja kehitysministeri           627\n",
              "Name: ministry, dtype: int64"
            ]
          },
          "metadata": {
            "tags": []
          },
          "execution_count": 10
        }
      ]
    },
    {
      "cell_type": "code",
      "metadata": {
        "id": "aWsbDU2Od5yH"
      },
      "source": [
        ""
      ],
      "execution_count": null,
      "outputs": []
    },
    {
      "cell_type": "markdown",
      "metadata": {
        "id": "Cnfu4qyaJ8fX"
      },
      "source": [
        "Huom. Kuten jakaumasta nähdää, ministerit eivät täysin vastaa niitä salkkuja, joita tällä hetkellä on, koska salkkujen sisältö on myös muuttunut vuosien varrella. Datasetin kehittäjä on yhdistellyt historiadatassa esiintyviä salkkuja, että jakauma pysyy miellyttävänä"
      ]
    },
    {
      "cell_type": "markdown",
      "metadata": {
        "id": "qmPLvVs_ImO-"
      },
      "source": [
        "Mahdollinen downsampling-esimerkki (tai dropataan pienet luokat)"
      ]
    },
    {
      "cell_type": "markdown",
      "metadata": {
        "id": "mRGX2WdeeoUN"
      },
      "source": [
        "# Esikäsittely"
      ]
    },
    {
      "cell_type": "markdown",
      "metadata": {
        "id": "6L25u3_1evkN"
      },
      "source": [
        "Esikäsittely on tärkeä vaihe missä vain koneoppimisprosessissa. Sen tarkoitus on:\n",
        "- Parantaa opetusdatan laatua\n",
        "- Vähentää kohinaa (dataa, joka vaikeuttaa piirteiden erottamista opetusdatasta\n",
        "- Muuntaa opetusdata muotoon, jossa sitä voidaan käyttää mallin opetukseen\n",
        "\n",
        "Tässä NLP-esimerkissä opetusdataa esikäsitellään sekä ennen mallin opettamista, että mallin opetusfunktion sisällä. Esikäsittely, jossa datan laatua parannetaan tehdään manuaalisesti. Varsinainen piirteiden erotus ja teksin muuttaminen numeromuotoon, tässä tapauksessa sanavektoreiksi, tapahtuu opetusfunktiossa. \n",
        "\n"
      ]
    },
    {
      "cell_type": "markdown",
      "metadata": {
        "id": "mZW7XBVeZ7Ec"
      },
      "source": [
        "![featureextraction.png](data:image/png;base64,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)"
      ]
    },
    {
      "cell_type": "markdown",
      "metadata": {
        "id": "W9dxqXzHZ6Np"
      },
      "source": [
        "Data on muutettava fastText-mallin opetusta varten muotoon, jossa jokaisella rivillä opetustekstiä edeltää mallin luokka. Esim:\n",
        "> \\_\\_label__valtionvarainministeri Lorem ispum dolor sit amet\n",
        "\n",
        "Tämän jälkeen opetus- ja testidata kirjoitetaan levylle tiedostoksi. "
      ]
    },
    {
      "cell_type": "markdown",
      "metadata": {
        "id": "wx1BjKP0uisi"
      },
      "source": [
        "### Esikäsittely vaiheittain\n",
        " - Pienet alkukirjaimet\n",
        " - Erikoismerkkien poisto\n",
        " - Hukkasanojen poisto\n",
        " - (perusmuotoistaminen)\n",
        " - (stemmaus)\n"
      ]
    },
    {
      "cell_type": "code",
      "metadata": {
        "id": "qnDt4BZPvWH1",
        "colab": {
          "base_uri": "https://localhost:8080/"
        },
        "outputId": "52673d14-aee8-445d-f43a-904bf4385613"
      },
      "source": [
        "text = df_train[\"sentence\"][0]\n",
        "print(\"Alkuperäinen teksti: \", text)\n",
        "text_l = text.lower()\n",
        "print(\"Pienet alkukirjaimet: \", text_l)"
      ],
      "execution_count": null,
      "outputs": [
        {
          "output_type": "stream",
          "text": [
            "Alkuperäinen teksti:  Hallituksen esityksen 43/2016vp valmistelussa on arvioitu mahdollisuutta säätää poikkeus turvattua toimeentuloa koskevasta vaatimuksesta tilanteissa , joissa perheenkokoaja on yksin maahan saapunut alaikäinen lapsi .\n",
            "Pienet alkukirjaimet:  hallituksen esityksen 43/2016vp valmistelussa on arvioitu mahdollisuutta säätää poikkeus turvattua toimeentuloa koskevasta vaatimuksesta tilanteissa , joissa perheenkokoaja on yksin maahan saapunut alaikäinen lapsi .\n"
          ],
          "name": "stdout"
        }
      ]
    },
    {
      "cell_type": "markdown",
      "metadata": {
        "id": "U1ZV43tSxYi8"
      },
      "source": [
        "Poistetaan seuraavaksi tekstistä erikoismerkit, kuten pisteet, pilkut, viivat, kautta-merkit yms.\n",
        "\n",
        "HUOM! Mikäli tekstissä haluaa säilyttää lauserakenteen (jotkin mallit vaativat lauseittain opetusta, esim Gensim), on se otettava huomioon tässä vaiheessa, sillä pisteet häviävät regex-komennossa"
      ]
    },
    {
      "cell_type": "code",
      "metadata": {
        "id": "PGz_mVswve81",
        "colab": {
          "base_uri": "https://localhost:8080/"
        },
        "outputId": "19d556d5-4cd0-477a-d02d-92f041171e5e"
      },
      "source": [
        "#Erikoismerkkien poisto:\n",
        "\n",
        "words = text.split(\" \") #Tehdään tekstin sanoista lista, jota voidaan esikäsitellä sana kerralaan\n",
        "\n",
        "preprocessed_words = [] #Tyhjä lista esikäsitellyille sanoille\n",
        "\n",
        "for word in words:\n",
        "  word = re.sub(\"[^A-Za-z0-9ÄäÖö-]+\", \"\", word) #Poistetaan regexin avulla kaikki merkit paitsi A-Ö-kirjaimet ja numerot\n",
        "  word = re.sub(\"-\", \" \", word) #Muutetaan regex-komennon avulla kaikki väliviivalliset sanat eri sanoiksi vaihtamalla viivan tilalle välilyönti\n",
        "  word = word.strip().lower() #Poistetaan sanan ympäriltä ylimääräiset välilyönnit ja muutetaan kaikki kirjaimet pieniksi\n",
        "  preprocessed_words.append(word) #Lisätään sana esikäsiteltyjen sanojen listaan\n",
        "\n",
        "text_sc = \" \".join(preprocessed_words) #Liitetään listan sanat toisiinsa välilyönnein\n",
        "print(\"Erikoismerkit poistettu:\", text_sc)"
      ],
      "execution_count": null,
      "outputs": [
        {
          "output_type": "stream",
          "text": [
            "Erikoismerkit poistettu: hallituksen esityksen 432016vp valmistelussa on arvioitu mahdollisuutta säätää poikkeus turvattua toimeentuloa koskevasta vaatimuksesta tilanteissa  joissa perheenkokoaja on yksin maahan saapunut alaikäinen lapsi \n"
          ],
          "name": "stdout"
        }
      ]
    },
    {
      "cell_type": "markdown",
      "metadata": {
        "id": "hbo9OILux8TR"
      },
      "source": [
        "Seuraavassa vaiheessa muunnetaan sanat perusmuotoon"
      ]
    },
    {
      "cell_type": "code",
      "metadata": {
        "id": "4OQwAvxax9RW",
        "colab": {
          "base_uri": "https://localhost:8080/"
        },
        "outputId": "51ef9602-7822-4303-ec45-0e039dea0e65"
      },
      "source": [
        "#Käytetään edellisen solun sanalistaa\n",
        "\n",
        "baseform_words = []\n",
        "\n",
        "for word in words:\n",
        "  if type(word) != None: #Ohitetaan ns. tyhjät merkkijoukot\n",
        "    voikko_dict = v.analyze(word)\n",
        "    if voikko_dict:\n",
        "      word = voikko_dict[0]['BASEFORM']\n",
        "      if word not in stopwords:\n",
        "        baseform_words.append(word)\n",
        "\n",
        "text_bf = \" \".join(baseform_words)\n",
        "print(\"Alkuperäinen:\", \"\\n\", text, \"\\n\")\n",
        "print(\"Perusmuotoinen:\", \"\\n\", text_bf)\n"
      ],
      "execution_count": null,
      "outputs": [
        {
          "output_type": "stream",
          "text": [
            "Alkuperäinen: \n",
            " Hallituksen esityksen 43/2016vp valmistelussa on arvioitu mahdollisuutta säätää poikkeus turvattua toimeentuloa koskevasta vaatimuksesta tilanteissa , joissa perheenkokoaja on yksin maahan saapunut alaikäinen lapsi . \n",
            "\n",
            "Perusmuotoinen: \n",
            " hallitus esitys valmistelu arvioitu mahdollisuus säätää poikkeus turvattu toimeentulo koskeva vaatimus tilanne perheenkokoaja maa saapunut alaikäinen lapsi\n"
          ],
          "name": "stdout"
        }
      ]
    },
    {
      "cell_type": "markdown",
      "metadata": {
        "id": "iIcOSjAgRl38"
      },
      "source": [
        "Seuraavassa solussa on edelliset vaiheet kirjoitettu funktioksi, joilla on helppo käsitellä koko tekstijoukko opetusta varten"
      ]
    },
    {
      "cell_type": "code",
      "metadata": {
        "id": "oMORV4YfI1NO"
      },
      "source": [
        "#TODO Muuta helpommin ymmärrettäväksi\n",
        "\n",
        "def preprocess_word(word, stopwords):\n",
        "\n",
        "    word = re.sub(\"[^A-Za-z0-9ÄäÖö-]+\", \"\", word)\n",
        "    word = re.sub(\"-\", \" \", word)\n",
        "    word = word.strip().lower()\n",
        "    \n",
        "    if type(word) != None:\n",
        "        voikko_dict = v.analyze(word)\n",
        "        if voikko_dict:\n",
        "          word = voikko_dict[0]['BASEFORM']\n",
        "          if word not in stopwords:\n",
        "            return word\n",
        "          else:\n",
        "              return \"\"\n",
        "        else:\n",
        "            return \"\"\n",
        "\n",
        "def preprocess_sent(sent, stopwords):\n",
        "\n",
        "    if sent != \"\":\n",
        "        words = sent.strip().split(\" \")\n",
        "        final_sent = \" \".join([preprocess_word(word, stopwords) for word in words if type(word) != None])\n",
        "        return final_sent\n",
        "\n",
        "def preprocess_row(teksti, stopwords):\n",
        "\n",
        "    if type(teksti) == str:\n",
        "        sents = teksti.strip().split(\".\")\n",
        "        sents = filter(None,sents)\n",
        "        teksti = \".\".join([preprocess_sent(sent, stopwords) for sent in sents if type(sent) != None])\n",
        "        return teksti"
      ],
      "execution_count": null,
      "outputs": []
    },
    {
      "cell_type": "markdown",
      "metadata": {
        "id": "-LruKGLEJUrA"
      },
      "source": [
        "FastText-mallin opetus vaatii opetuslabelille tunnisteen, tässä tilanteessa käytetään oletusarvoa \\_\\_label__"
      ]
    },
    {
      "cell_type": "code",
      "metadata": {
        "id": "rN2ZREhNiDqm"
      },
      "source": [
        "df = df_train"
      ],
      "execution_count": null,
      "outputs": []
    },
    {
      "cell_type": "code",
      "metadata": {
        "id": "GinQLTt0esmJ",
        "colab": {
          "base_uri": "https://localhost:8080/",
          "height": 583
        },
        "outputId": "93b6b99e-2dc0-4b83-fa3d-3d558e16f20b"
      },
      "source": [
        "df[\"label\"] = [\"__label__\" + i for i in df_train[\"ministry\"]]\n",
        "df.head()"
      ],
      "execution_count": null,
      "outputs": [
        {
          "output_type": "error",
          "ename": "KeyError",
          "evalue": "ignored",
          "traceback": [
            "\u001b[0;31m---------------------------------------------------------------------------\u001b[0m",
            "\u001b[0;31mKeyError\u001b[0m                                  Traceback (most recent call last)",
            "\u001b[0;32m/usr/local/lib/python3.7/dist-packages/pandas/core/indexes/base.py\u001b[0m in \u001b[0;36mget_loc\u001b[0;34m(self, key, method, tolerance)\u001b[0m\n\u001b[1;32m   2888\u001b[0m             \u001b[0;32mtry\u001b[0m\u001b[0;34m:\u001b[0m\u001b[0;34m\u001b[0m\u001b[0;34m\u001b[0m\u001b[0m\n\u001b[0;32m-> 2889\u001b[0;31m                 \u001b[0;32mreturn\u001b[0m \u001b[0mself\u001b[0m\u001b[0;34m.\u001b[0m\u001b[0m_engine\u001b[0m\u001b[0;34m.\u001b[0m\u001b[0mget_loc\u001b[0m\u001b[0;34m(\u001b[0m\u001b[0mcasted_key\u001b[0m\u001b[0;34m)\u001b[0m\u001b[0;34m\u001b[0m\u001b[0;34m\u001b[0m\u001b[0m\n\u001b[0m\u001b[1;32m   2890\u001b[0m             \u001b[0;32mexcept\u001b[0m \u001b[0mKeyError\u001b[0m \u001b[0;32mas\u001b[0m \u001b[0merr\u001b[0m\u001b[0;34m:\u001b[0m\u001b[0;34m\u001b[0m\u001b[0;34m\u001b[0m\u001b[0m\n",
            "\u001b[0;32mpandas/_libs/index.pyx\u001b[0m in \u001b[0;36mpandas._libs.index.IndexEngine.get_loc\u001b[0;34m()\u001b[0m\n",
            "\u001b[0;32mpandas/_libs/index.pyx\u001b[0m in \u001b[0;36mpandas._libs.index.IndexEngine.get_loc\u001b[0;34m()\u001b[0m\n",
            "\u001b[0;32mpandas/_libs/hashtable_class_helper.pxi\u001b[0m in \u001b[0;36mpandas._libs.hashtable.PyObjectHashTable.get_item\u001b[0;34m()\u001b[0m\n",
            "\u001b[0;32mpandas/_libs/hashtable_class_helper.pxi\u001b[0m in \u001b[0;36mpandas._libs.hashtable.PyObjectHashTable.get_item\u001b[0;34m()\u001b[0m\n",
            "\u001b[0;31mKeyError\u001b[0m: 'ministry'",
            "\nThe above exception was the direct cause of the following exception:\n",
            "\u001b[0;31mKeyError\u001b[0m                                  Traceback (most recent call last)",
            "\u001b[0;32m<ipython-input-47-0097db899373>\u001b[0m in \u001b[0;36m<module>\u001b[0;34m()\u001b[0m\n\u001b[0;32m----> 1\u001b[0;31m \u001b[0mdf\u001b[0m\u001b[0;34m[\u001b[0m\u001b[0;34m\"label\"\u001b[0m\u001b[0;34m]\u001b[0m \u001b[0;34m=\u001b[0m \u001b[0;34m[\u001b[0m\u001b[0;34m\"__label__\"\u001b[0m \u001b[0;34m+\u001b[0m \u001b[0mi\u001b[0m \u001b[0;32mfor\u001b[0m \u001b[0mi\u001b[0m \u001b[0;32min\u001b[0m \u001b[0mdf_train\u001b[0m\u001b[0;34m[\u001b[0m\u001b[0;34m\"ministry\"\u001b[0m\u001b[0;34m]\u001b[0m\u001b[0;34m]\u001b[0m\u001b[0;34m\u001b[0m\u001b[0;34m\u001b[0m\u001b[0m\n\u001b[0m\u001b[1;32m      2\u001b[0m \u001b[0mdf\u001b[0m\u001b[0;34m.\u001b[0m\u001b[0mhead\u001b[0m\u001b[0;34m(\u001b[0m\u001b[0;34m)\u001b[0m\u001b[0;34m\u001b[0m\u001b[0;34m\u001b[0m\u001b[0m\n",
            "\u001b[0;32m/usr/local/lib/python3.7/dist-packages/pandas/core/frame.py\u001b[0m in \u001b[0;36m__getitem__\u001b[0;34m(self, key)\u001b[0m\n\u001b[1;32m   2897\u001b[0m             \u001b[0;32mif\u001b[0m \u001b[0mself\u001b[0m\u001b[0;34m.\u001b[0m\u001b[0mcolumns\u001b[0m\u001b[0;34m.\u001b[0m\u001b[0mnlevels\u001b[0m \u001b[0;34m>\u001b[0m \u001b[0;36m1\u001b[0m\u001b[0;34m:\u001b[0m\u001b[0;34m\u001b[0m\u001b[0;34m\u001b[0m\u001b[0m\n\u001b[1;32m   2898\u001b[0m                 \u001b[0;32mreturn\u001b[0m \u001b[0mself\u001b[0m\u001b[0;34m.\u001b[0m\u001b[0m_getitem_multilevel\u001b[0m\u001b[0;34m(\u001b[0m\u001b[0mkey\u001b[0m\u001b[0;34m)\u001b[0m\u001b[0;34m\u001b[0m\u001b[0;34m\u001b[0m\u001b[0m\n\u001b[0;32m-> 2899\u001b[0;31m             \u001b[0mindexer\u001b[0m \u001b[0;34m=\u001b[0m \u001b[0mself\u001b[0m\u001b[0;34m.\u001b[0m\u001b[0mcolumns\u001b[0m\u001b[0;34m.\u001b[0m\u001b[0mget_loc\u001b[0m\u001b[0;34m(\u001b[0m\u001b[0mkey\u001b[0m\u001b[0;34m)\u001b[0m\u001b[0;34m\u001b[0m\u001b[0;34m\u001b[0m\u001b[0m\n\u001b[0m\u001b[1;32m   2900\u001b[0m             \u001b[0;32mif\u001b[0m \u001b[0mis_integer\u001b[0m\u001b[0;34m(\u001b[0m\u001b[0mindexer\u001b[0m\u001b[0;34m)\u001b[0m\u001b[0;34m:\u001b[0m\u001b[0;34m\u001b[0m\u001b[0;34m\u001b[0m\u001b[0m\n\u001b[1;32m   2901\u001b[0m                 \u001b[0mindexer\u001b[0m \u001b[0;34m=\u001b[0m \u001b[0;34m[\u001b[0m\u001b[0mindexer\u001b[0m\u001b[0;34m]\u001b[0m\u001b[0;34m\u001b[0m\u001b[0;34m\u001b[0m\u001b[0m\n",
            "\u001b[0;32m/usr/local/lib/python3.7/dist-packages/pandas/core/indexes/base.py\u001b[0m in \u001b[0;36mget_loc\u001b[0;34m(self, key, method, tolerance)\u001b[0m\n\u001b[1;32m   2889\u001b[0m                 \u001b[0;32mreturn\u001b[0m \u001b[0mself\u001b[0m\u001b[0;34m.\u001b[0m\u001b[0m_engine\u001b[0m\u001b[0;34m.\u001b[0m\u001b[0mget_loc\u001b[0m\u001b[0;34m(\u001b[0m\u001b[0mcasted_key\u001b[0m\u001b[0;34m)\u001b[0m\u001b[0;34m\u001b[0m\u001b[0;34m\u001b[0m\u001b[0m\n\u001b[1;32m   2890\u001b[0m             \u001b[0;32mexcept\u001b[0m \u001b[0mKeyError\u001b[0m \u001b[0;32mas\u001b[0m \u001b[0merr\u001b[0m\u001b[0;34m:\u001b[0m\u001b[0;34m\u001b[0m\u001b[0;34m\u001b[0m\u001b[0m\n\u001b[0;32m-> 2891\u001b[0;31m                 \u001b[0;32mraise\u001b[0m \u001b[0mKeyError\u001b[0m\u001b[0;34m(\u001b[0m\u001b[0mkey\u001b[0m\u001b[0;34m)\u001b[0m \u001b[0;32mfrom\u001b[0m \u001b[0merr\u001b[0m\u001b[0;34m\u001b[0m\u001b[0;34m\u001b[0m\u001b[0m\n\u001b[0m\u001b[1;32m   2892\u001b[0m \u001b[0;34m\u001b[0m\u001b[0m\n\u001b[1;32m   2893\u001b[0m         \u001b[0;32mif\u001b[0m \u001b[0mtolerance\u001b[0m \u001b[0;32mis\u001b[0m \u001b[0;32mnot\u001b[0m \u001b[0;32mNone\u001b[0m\u001b[0;34m:\u001b[0m\u001b[0;34m\u001b[0m\u001b[0;34m\u001b[0m\u001b[0m\n",
            "\u001b[0;31mKeyError\u001b[0m: 'ministry'"
          ]
        }
      ]
    },
    {
      "cell_type": "markdown",
      "metadata": {
        "id": "0TCgmgg9JJ-1"
      },
      "source": [
        "Käytetään apufunktiota luomaan uusi dataframeen uusi sarake \"Preprocessed\""
      ]
    },
    {
      "cell_type": "code",
      "metadata": {
        "id": "ze2n30PMgf_R",
        "colab": {
          "base_uri": "https://localhost:8080/",
          "height": 583
        },
        "outputId": "a7d51083-500e-4ceb-d7de-3e5c505d65cc"
      },
      "source": [
        "df[\"preprocessed\"] = [preprocess_row(sentence, stopwords) for sentence in df[\"sentence\"]]\n",
        "df.head()"
      ],
      "execution_count": null,
      "outputs": [
        {
          "output_type": "error",
          "ename": "KeyError",
          "evalue": "ignored",
          "traceback": [
            "\u001b[0;31m---------------------------------------------------------------------------\u001b[0m",
            "\u001b[0;31mKeyError\u001b[0m                                  Traceback (most recent call last)",
            "\u001b[0;32m/usr/local/lib/python3.7/dist-packages/pandas/core/indexes/base.py\u001b[0m in \u001b[0;36mget_loc\u001b[0;34m(self, key, method, tolerance)\u001b[0m\n\u001b[1;32m   2888\u001b[0m             \u001b[0;32mtry\u001b[0m\u001b[0;34m:\u001b[0m\u001b[0;34m\u001b[0m\u001b[0;34m\u001b[0m\u001b[0m\n\u001b[0;32m-> 2889\u001b[0;31m                 \u001b[0;32mreturn\u001b[0m \u001b[0mself\u001b[0m\u001b[0;34m.\u001b[0m\u001b[0m_engine\u001b[0m\u001b[0;34m.\u001b[0m\u001b[0mget_loc\u001b[0m\u001b[0;34m(\u001b[0m\u001b[0mcasted_key\u001b[0m\u001b[0;34m)\u001b[0m\u001b[0;34m\u001b[0m\u001b[0;34m\u001b[0m\u001b[0m\n\u001b[0m\u001b[1;32m   2890\u001b[0m             \u001b[0;32mexcept\u001b[0m \u001b[0mKeyError\u001b[0m \u001b[0;32mas\u001b[0m \u001b[0merr\u001b[0m\u001b[0;34m:\u001b[0m\u001b[0;34m\u001b[0m\u001b[0;34m\u001b[0m\u001b[0m\n",
            "\u001b[0;32mpandas/_libs/index.pyx\u001b[0m in \u001b[0;36mpandas._libs.index.IndexEngine.get_loc\u001b[0;34m()\u001b[0m\n",
            "\u001b[0;32mpandas/_libs/index.pyx\u001b[0m in \u001b[0;36mpandas._libs.index.IndexEngine.get_loc\u001b[0;34m()\u001b[0m\n",
            "\u001b[0;32mpandas/_libs/hashtable_class_helper.pxi\u001b[0m in \u001b[0;36mpandas._libs.hashtable.PyObjectHashTable.get_item\u001b[0;34m()\u001b[0m\n",
            "\u001b[0;32mpandas/_libs/hashtable_class_helper.pxi\u001b[0m in \u001b[0;36mpandas._libs.hashtable.PyObjectHashTable.get_item\u001b[0;34m()\u001b[0m\n",
            "\u001b[0;31mKeyError\u001b[0m: 'sentence'",
            "\nThe above exception was the direct cause of the following exception:\n",
            "\u001b[0;31mKeyError\u001b[0m                                  Traceback (most recent call last)",
            "\u001b[0;32m<ipython-input-48-afd08b3bf56a>\u001b[0m in \u001b[0;36m<module>\u001b[0;34m()\u001b[0m\n\u001b[0;32m----> 1\u001b[0;31m \u001b[0mdf\u001b[0m\u001b[0;34m[\u001b[0m\u001b[0;34m\"preprocessed\"\u001b[0m\u001b[0;34m]\u001b[0m \u001b[0;34m=\u001b[0m \u001b[0;34m[\u001b[0m\u001b[0mpreprocess_row\u001b[0m\u001b[0;34m(\u001b[0m\u001b[0msentence\u001b[0m\u001b[0;34m,\u001b[0m \u001b[0mstopwords\u001b[0m\u001b[0;34m)\u001b[0m \u001b[0;32mfor\u001b[0m \u001b[0msentence\u001b[0m \u001b[0;32min\u001b[0m \u001b[0mdf\u001b[0m\u001b[0;34m[\u001b[0m\u001b[0;34m\"sentence\"\u001b[0m\u001b[0;34m]\u001b[0m\u001b[0;34m]\u001b[0m\u001b[0;34m\u001b[0m\u001b[0;34m\u001b[0m\u001b[0m\n\u001b[0m\u001b[1;32m      2\u001b[0m \u001b[0mdf\u001b[0m\u001b[0;34m.\u001b[0m\u001b[0mhead\u001b[0m\u001b[0;34m(\u001b[0m\u001b[0;34m)\u001b[0m\u001b[0;34m\u001b[0m\u001b[0;34m\u001b[0m\u001b[0m\n",
            "\u001b[0;32m/usr/local/lib/python3.7/dist-packages/pandas/core/frame.py\u001b[0m in \u001b[0;36m__getitem__\u001b[0;34m(self, key)\u001b[0m\n\u001b[1;32m   2897\u001b[0m             \u001b[0;32mif\u001b[0m \u001b[0mself\u001b[0m\u001b[0;34m.\u001b[0m\u001b[0mcolumns\u001b[0m\u001b[0;34m.\u001b[0m\u001b[0mnlevels\u001b[0m \u001b[0;34m>\u001b[0m \u001b[0;36m1\u001b[0m\u001b[0;34m:\u001b[0m\u001b[0;34m\u001b[0m\u001b[0;34m\u001b[0m\u001b[0m\n\u001b[1;32m   2898\u001b[0m                 \u001b[0;32mreturn\u001b[0m \u001b[0mself\u001b[0m\u001b[0;34m.\u001b[0m\u001b[0m_getitem_multilevel\u001b[0m\u001b[0;34m(\u001b[0m\u001b[0mkey\u001b[0m\u001b[0;34m)\u001b[0m\u001b[0;34m\u001b[0m\u001b[0;34m\u001b[0m\u001b[0m\n\u001b[0;32m-> 2899\u001b[0;31m             \u001b[0mindexer\u001b[0m \u001b[0;34m=\u001b[0m \u001b[0mself\u001b[0m\u001b[0;34m.\u001b[0m\u001b[0mcolumns\u001b[0m\u001b[0;34m.\u001b[0m\u001b[0mget_loc\u001b[0m\u001b[0;34m(\u001b[0m\u001b[0mkey\u001b[0m\u001b[0;34m)\u001b[0m\u001b[0;34m\u001b[0m\u001b[0;34m\u001b[0m\u001b[0m\n\u001b[0m\u001b[1;32m   2900\u001b[0m             \u001b[0;32mif\u001b[0m \u001b[0mis_integer\u001b[0m\u001b[0;34m(\u001b[0m\u001b[0mindexer\u001b[0m\u001b[0;34m)\u001b[0m\u001b[0;34m:\u001b[0m\u001b[0;34m\u001b[0m\u001b[0;34m\u001b[0m\u001b[0m\n\u001b[1;32m   2901\u001b[0m                 \u001b[0mindexer\u001b[0m \u001b[0;34m=\u001b[0m \u001b[0;34m[\u001b[0m\u001b[0mindexer\u001b[0m\u001b[0;34m]\u001b[0m\u001b[0;34m\u001b[0m\u001b[0;34m\u001b[0m\u001b[0m\n",
            "\u001b[0;32m/usr/local/lib/python3.7/dist-packages/pandas/core/indexes/base.py\u001b[0m in \u001b[0;36mget_loc\u001b[0;34m(self, key, method, tolerance)\u001b[0m\n\u001b[1;32m   2889\u001b[0m                 \u001b[0;32mreturn\u001b[0m \u001b[0mself\u001b[0m\u001b[0;34m.\u001b[0m\u001b[0m_engine\u001b[0m\u001b[0;34m.\u001b[0m\u001b[0mget_loc\u001b[0m\u001b[0;34m(\u001b[0m\u001b[0mcasted_key\u001b[0m\u001b[0;34m)\u001b[0m\u001b[0;34m\u001b[0m\u001b[0;34m\u001b[0m\u001b[0m\n\u001b[1;32m   2890\u001b[0m             \u001b[0;32mexcept\u001b[0m \u001b[0mKeyError\u001b[0m \u001b[0;32mas\u001b[0m \u001b[0merr\u001b[0m\u001b[0;34m:\u001b[0m\u001b[0;34m\u001b[0m\u001b[0;34m\u001b[0m\u001b[0m\n\u001b[0;32m-> 2891\u001b[0;31m                 \u001b[0;32mraise\u001b[0m \u001b[0mKeyError\u001b[0m\u001b[0;34m(\u001b[0m\u001b[0mkey\u001b[0m\u001b[0;34m)\u001b[0m \u001b[0;32mfrom\u001b[0m \u001b[0merr\u001b[0m\u001b[0;34m\u001b[0m\u001b[0;34m\u001b[0m\u001b[0m\n\u001b[0m\u001b[1;32m   2892\u001b[0m \u001b[0;34m\u001b[0m\u001b[0m\n\u001b[1;32m   2893\u001b[0m         \u001b[0;32mif\u001b[0m \u001b[0mtolerance\u001b[0m \u001b[0;32mis\u001b[0m \u001b[0;32mnot\u001b[0m \u001b[0;32mNone\u001b[0m\u001b[0;34m:\u001b[0m\u001b[0;34m\u001b[0m\u001b[0;34m\u001b[0m\u001b[0m\n",
            "\u001b[0;31mKeyError\u001b[0m: 'sentence'"
          ]
        }
      ]
    },
    {
      "cell_type": "code",
      "metadata": {
        "colab": {
          "base_uri": "https://localhost:8080/",
          "height": 36
        },
        "id": "8lk_8N2WMwuM",
        "outputId": "6ee3fd1c-846f-42ce-946c-6c117d261670"
      },
      "source": [
        "df[\"preprocessed\"][0]"
      ],
      "execution_count": null,
      "outputs": [
        {
          "output_type": "execute_result",
          "data": {
            "application/vnd.google.colaboratory.intrinsic+json": {
              "type": "string"
            },
            "text/plain": [
              "'hallitus esitys  valmistelu  arvioitu mahdollisuus säätää poikkeus turvattu toimeentulo koskeva vaatimus tilanne   perheenkokoaja   maa saapunut alaikäinen lapsi'"
            ]
          },
          "metadata": {
            "tags": []
          },
          "execution_count": 49
        }
      ]
    },
    {
      "cell_type": "code",
      "metadata": {
        "colab": {
          "base_uri": "https://localhost:8080/",
          "height": 194
        },
        "id": "LAjSV-UxMp4q",
        "outputId": "fe93aeb4-0284-47e5-b092-eba6eeb5428a"
      },
      "source": [
        "df.head()"
      ],
      "execution_count": null,
      "outputs": [
        {
          "output_type": "execute_result",
          "data": {
            "text/html": [
              "<div>\n",
              "<style scoped>\n",
              "    .dataframe tbody tr th:only-of-type {\n",
              "        vertical-align: middle;\n",
              "    }\n",
              "\n",
              "    .dataframe tbody tr th {\n",
              "        vertical-align: top;\n",
              "    }\n",
              "\n",
              "    .dataframe thead th {\n",
              "        text-align: right;\n",
              "    }\n",
              "</style>\n",
              "<table border=\"1\" class=\"dataframe\">\n",
              "  <thead>\n",
              "    <tr style=\"text-align: right;\">\n",
              "      <th></th>\n",
              "      <th>sentence</th>\n",
              "      <th>ministry</th>\n",
              "      <th>label</th>\n",
              "      <th>preprocessed</th>\n",
              "    </tr>\n",
              "  </thead>\n",
              "  <tbody>\n",
              "    <tr>\n",
              "      <th>0</th>\n",
              "      <td>Hallituksen esityksen 43/2016vp valmistelussa ...</td>\n",
              "      <td>sisäministeri</td>\n",
              "      <td>__label__sisäministeri</td>\n",
              "      <td>hallitus esitys  valmistelu  arvioitu mahdolli...</td>\n",
              "    </tr>\n",
              "    <tr>\n",
              "      <th>1</th>\n",
              "      <td>Suojaosuuden nostaminen vähentäisi kaikkien ve...</td>\n",
              "      <td>oikeus- ja työministeri</td>\n",
              "      <td>__label__oikeus- ja työministeri</td>\n",
              "      <td>suojaosuus nostaa vähentää  velallinen   hyvät...</td>\n",
              "    </tr>\n",
              "    <tr>\n",
              "      <th>2</th>\n",
              "      <td>Edistämällä puun käyttöä rakentamisessa tuetaa...</td>\n",
              "      <td>maatalous- ja ympäristöministeri</td>\n",
              "      <td>__label__maatalous- ja ympäristöministeri</td>\n",
              "      <td>edistää puu käyttö rakentaa tukea metsä kestäv...</td>\n",
              "    </tr>\n",
              "    <tr>\n",
              "      <th>3</th>\n",
              "      <td>Valvira ja aluehallintovirastot ovat ottaneet ...</td>\n",
              "      <td>perhe- ja peruspalveluministeri</td>\n",
              "      <td>__label__perhe- ja peruspalveluministeri</td>\n",
              "      <td>aluehallintovirasto  ottanut turvapaikanhaki...</td>\n",
              "    </tr>\n",
              "    <tr>\n",
              "      <th>4</th>\n",
              "      <td>Lainmuutoksessa säädettiin vaativan lääkinnäll...</td>\n",
              "      <td>sosiaali- ja terveysministeri</td>\n",
              "      <td>__label__sosiaali- ja terveysministeri</td>\n",
              "      <td>lainmuutos säätää vaativa lääkinnällinen kunto...</td>\n",
              "    </tr>\n",
              "  </tbody>\n",
              "</table>\n",
              "</div>"
            ],
            "text/plain": [
              "                                            sentence  ...                                       preprocessed\n",
              "0  Hallituksen esityksen 43/2016vp valmistelussa ...  ...  hallitus esitys  valmistelu  arvioitu mahdolli...\n",
              "1  Suojaosuuden nostaminen vähentäisi kaikkien ve...  ...  suojaosuus nostaa vähentää  velallinen   hyvät...\n",
              "2  Edistämällä puun käyttöä rakentamisessa tuetaa...  ...  edistää puu käyttö rakentaa tukea metsä kestäv...\n",
              "3  Valvira ja aluehallintovirastot ovat ottaneet ...  ...    aluehallintovirasto  ottanut turvapaikanhaki...\n",
              "4  Lainmuutoksessa säädettiin vaativan lääkinnäll...  ...  lainmuutos säätää vaativa lääkinnällinen kunto...\n",
              "\n",
              "[5 rows x 4 columns]"
            ]
          },
          "metadata": {
            "tags": []
          },
          "execution_count": 37
        }
      ]
    },
    {
      "cell_type": "code",
      "metadata": {
        "id": "C-ufuG4eg6zs"
      },
      "source": [
        "#Apufunktio, jolla voidaan luoda fastText-yhteensopiva opetus- ja tekstitiedosto\n",
        "\n",
        "def preprocess_ft_df(df):\n",
        "  df[\"label\"] = [\"__label__\" + \"_\".join(i.split(\" \")) for i in df[\"ministry\"]]\n",
        "  df[\"preprocessed\"] = [preprocess_row(sentence, stopwords) for sentence in df[\"sentence\"]]\n",
        "  df = df.drop([\"ministry\", \"sentence\"], axis = 1)\n",
        "  return df"
      ],
      "execution_count": null,
      "outputs": []
    },
    {
      "cell_type": "code",
      "metadata": {
        "id": "6QAW_fphhAf_"
      },
      "source": [
        "df_train = preprocess_ft_df(df_train)\n",
        "df_test = preprocess_ft_df(df_test)"
      ],
      "execution_count": null,
      "outputs": []
    },
    {
      "cell_type": "code",
      "metadata": {
        "id": "wlWtk5KskVlA",
        "colab": {
          "base_uri": "https://localhost:8080/",
          "height": 194
        },
        "outputId": "7686c3aa-a363-4695-f918-75fbed06d220"
      },
      "source": [
        "df_train.head()"
      ],
      "execution_count": null,
      "outputs": [
        {
          "output_type": "execute_result",
          "data": {
            "text/html": [
              "<div>\n",
              "<style scoped>\n",
              "    .dataframe tbody tr th:only-of-type {\n",
              "        vertical-align: middle;\n",
              "    }\n",
              "\n",
              "    .dataframe tbody tr th {\n",
              "        vertical-align: top;\n",
              "    }\n",
              "\n",
              "    .dataframe thead th {\n",
              "        text-align: right;\n",
              "    }\n",
              "</style>\n",
              "<table border=\"1\" class=\"dataframe\">\n",
              "  <thead>\n",
              "    <tr style=\"text-align: right;\">\n",
              "      <th></th>\n",
              "      <th>label</th>\n",
              "      <th>preprocessed</th>\n",
              "    </tr>\n",
              "  </thead>\n",
              "  <tbody>\n",
              "    <tr>\n",
              "      <th>0</th>\n",
              "      <td>__label__sisäministeri</td>\n",
              "      <td>hallitus esitys  valmistelu  arvioitu mahdolli...</td>\n",
              "    </tr>\n",
              "    <tr>\n",
              "      <th>1</th>\n",
              "      <td>__label__oikeus-_ja_työministeri</td>\n",
              "      <td>suojaosuus nostaa vähentää  velallinen   hyvät...</td>\n",
              "    </tr>\n",
              "    <tr>\n",
              "      <th>2</th>\n",
              "      <td>__label__maatalous-_ja_ympäristöministeri</td>\n",
              "      <td>edistää puu käyttö rakentaa tukea metsä kestäv...</td>\n",
              "    </tr>\n",
              "    <tr>\n",
              "      <th>3</th>\n",
              "      <td>__label__perhe-_ja_peruspalveluministeri</td>\n",
              "      <td>aluehallintovirasto  ottanut turvapaikanhaki...</td>\n",
              "    </tr>\n",
              "    <tr>\n",
              "      <th>4</th>\n",
              "      <td>__label__sosiaali-_ja_terveysministeri</td>\n",
              "      <td>lainmuutos säätää vaativa lääkinnällinen kunto...</td>\n",
              "    </tr>\n",
              "  </tbody>\n",
              "</table>\n",
              "</div>"
            ],
            "text/plain": [
              "                                       label                                       preprocessed\n",
              "0                     __label__sisäministeri  hallitus esitys  valmistelu  arvioitu mahdolli...\n",
              "1           __label__oikeus-_ja_työministeri  suojaosuus nostaa vähentää  velallinen   hyvät...\n",
              "2  __label__maatalous-_ja_ympäristöministeri  edistää puu käyttö rakentaa tukea metsä kestäv...\n",
              "3   __label__perhe-_ja_peruspalveluministeri    aluehallintovirasto  ottanut turvapaikanhaki...\n",
              "4     __label__sosiaali-_ja_terveysministeri  lainmuutos säätää vaativa lääkinnällinen kunto..."
            ]
          },
          "metadata": {
            "tags": []
          },
          "execution_count": 25
        }
      ]
    },
    {
      "cell_type": "code",
      "metadata": {
        "id": "WiQzP1eWhBhI"
      },
      "source": [
        "#df_train = df_train.drop([\"ministry\", \"sentence\"], axis = 1)\n",
        "df_train.to_csv(\"data/train_ft.txt\", sep='\\t', index = False, header = False)\n",
        "df_test.to_csv(\"data/test_ft.txt\", sep='\\t', index = False, header = False)"
      ],
      "execution_count": null,
      "outputs": []
    },
    {
      "cell_type": "code",
      "metadata": {
        "colab": {
          "base_uri": "https://localhost:8080/",
          "height": 194
        },
        "id": "oB_NhJetO0SR",
        "outputId": "85e047f1-c86a-444b-fe74-9a0c3bafc349"
      },
      "source": [
        "df_test.head()"
      ],
      "execution_count": null,
      "outputs": [
        {
          "output_type": "execute_result",
          "data": {
            "text/html": [
              "<div>\n",
              "<style scoped>\n",
              "    .dataframe tbody tr th:only-of-type {\n",
              "        vertical-align: middle;\n",
              "    }\n",
              "\n",
              "    .dataframe tbody tr th {\n",
              "        vertical-align: top;\n",
              "    }\n",
              "\n",
              "    .dataframe thead th {\n",
              "        text-align: right;\n",
              "    }\n",
              "</style>\n",
              "<table border=\"1\" class=\"dataframe\">\n",
              "  <thead>\n",
              "    <tr style=\"text-align: right;\">\n",
              "      <th></th>\n",
              "      <th>label</th>\n",
              "      <th>preprocessed</th>\n",
              "    </tr>\n",
              "  </thead>\n",
              "  <tbody>\n",
              "    <tr>\n",
              "      <th>0</th>\n",
              "      <td>__label__maatalous-_ja_ympäristöministeri</td>\n",
              "      <td>vaihtoehto voida    kotitalousvähennys piiri ...</td>\n",
              "    </tr>\n",
              "    <tr>\n",
              "      <th>1</th>\n",
              "      <td>__label__sisäministeri</td>\n",
              "      <td>kielitaitolaki   yleinen mahdollisuus säätää p...</td>\n",
              "    </tr>\n",
              "    <tr>\n",
              "      <th>2</th>\n",
              "      <td>__label__opetus-_ja_kulttuuriministeri</td>\n",
              "      <td>vanhempi jäädä työtön oikeus kokopäiväinen var...</td>\n",
              "    </tr>\n",
              "    <tr>\n",
              "      <th>3</th>\n",
              "      <td>__label__kunta-_ja_uudistusministeri</td>\n",
              "      <td>oikeusministeriö  pyytää sijoittamisselvitys e...</td>\n",
              "    </tr>\n",
              "    <tr>\n",
              "      <th>4</th>\n",
              "      <td>__label__liikenne-_ja_viestintäministeri</td>\n",
              "      <td>liikenne  viestintäministeriö   valmiste vaara...</td>\n",
              "    </tr>\n",
              "  </tbody>\n",
              "</table>\n",
              "</div>"
            ],
            "text/plain": [
              "                                       label                                       preprocessed\n",
              "0  __label__maatalous-_ja_ympäristöministeri   vaihtoehto voida    kotitalousvähennys piiri ...\n",
              "1                     __label__sisäministeri  kielitaitolaki   yleinen mahdollisuus säätää p...\n",
              "2     __label__opetus-_ja_kulttuuriministeri  vanhempi jäädä työtön oikeus kokopäiväinen var...\n",
              "3       __label__kunta-_ja_uudistusministeri  oikeusministeriö  pyytää sijoittamisselvitys e...\n",
              "4   __label__liikenne-_ja_viestintäministeri  liikenne  viestintäministeriö   valmiste vaara..."
            ]
          },
          "metadata": {
            "tags": []
          },
          "execution_count": 27
        }
      ]
    },
    {
      "cell_type": "code",
      "metadata": {
        "id": "0nV9CnwMhWrN"
      },
      "source": [
        ""
      ],
      "execution_count": null,
      "outputs": []
    },
    {
      "cell_type": "markdown",
      "metadata": {
        "id": "R1JeU6IekY65"
      },
      "source": [
        "# Mallin opetus"
      ]
    },
    {
      "cell_type": "markdown",
      "metadata": {
        "id": "pvz3bsRQpm7G"
      },
      "source": [
        "FastText - Facebook research"
      ]
    },
    {
      "cell_type": "markdown",
      "metadata": {
        "id": "Uxw6WFoKfyzc"
      },
      "source": [
        "- Fasttext logo\n",
        "- Miten fastText-toimii\n"
      ]
    },
    {
      "cell_type": "code",
      "metadata": {
        "id": "plEC1BLZknmg"
      },
      "source": [
        "#@title Mallin opetusparametrit\n",
        "#@markdown Input: Polku opetustiedostoon\n",
        "input = \"data/train_ft.txt\"#@param {type:\"string\"}\n",
        "#@markdown label_prefix: Luokan tunnuksen etuliite\n",
        "label_prefix = \"__label__\"#@param {type:\"string\"}\n",
        "#@markdown Epoch: Montako kertaa mallin opetus iteroidaan\n",
        "epoch = 100#@param {type:\"number\"}\n",
        "#@markdown Dim: Miten monta ulottuvuutta mallin opettamat sanavektorit sisältävät\n",
        "dim = 3#@param {type:\"number\"}\n",
        "#@markdown Word_ngrams: Minkäkokoisia ngrameja ympäröivistä sanoista muodostetaan\n",
        "word_ngrams = 3#@param {type:\"number\"}\n",
        "#@markdown ws: window size, miten monta ympäröivää sanaa tulkitaan sanan kontekstiksi\n",
        "ws= 3#@param {type:\"number\"}\n",
        "\n",
        "#Mallin opetus tapahtuu komennolla train_supervised ja malli tallennetaan muuttujaan\n",
        "ft_classifier = ft.train_supervised(\n",
        "                          input = input,\n",
        "                          label_prefix = label_prefix,\n",
        "                          epoch = epoch, \n",
        "                          dim = dim,\n",
        "                          word_ngrams = word_ngrams,\n",
        "                          ws = ws)\n",
        "\n"
      ],
      "execution_count": null,
      "outputs": []
    },
    {
      "cell_type": "code",
      "metadata": {
        "id": "KZvPgiH6Recc"
      },
      "source": [
        "df_test['text'] = df_test['text'].str.replace(\"__label__\", \"\")\n",
        "ft_score = ft_classifier.predict(df_test['text'].tolist(), k=2)"
      ],
      "execution_count": null,
      "outputs": []
    },
    {
      "cell_type": "code",
      "metadata": {
        "colab": {
          "base_uri": "https://localhost:8080/",
          "height": 399
        },
        "id": "jp6fyaGER-DL",
        "outputId": "c6cb0860-c2a7-4f8e-ce46-2c56bfa4054d"
      },
      "source": [
        "df_test\n"
      ],
      "execution_count": null,
      "outputs": [
        {
          "output_type": "execute_result",
          "data": {
            "text/html": [
              "<div>\n",
              "<style scoped>\n",
              "    .dataframe tbody tr th:only-of-type {\n",
              "        vertical-align: middle;\n",
              "    }\n",
              "\n",
              "    .dataframe tbody tr th {\n",
              "        vertical-align: top;\n",
              "    }\n",
              "\n",
              "    .dataframe thead th {\n",
              "        text-align: right;\n",
              "    }\n",
              "</style>\n",
              "<table border=\"1\" class=\"dataframe\">\n",
              "  <thead>\n",
              "    <tr style=\"text-align: right;\">\n",
              "      <th></th>\n",
              "      <th>label</th>\n",
              "      <th>preprocseed</th>\n",
              "    </tr>\n",
              "  </thead>\n",
              "  <tbody>\n",
              "    <tr>\n",
              "      <th>0</th>\n",
              "      <td>__label__maatalous- ja ympäristöministeri</td>\n",
              "      <td>vaihtoehto voida    kotitalousvähennys piiri ...</td>\n",
              "    </tr>\n",
              "    <tr>\n",
              "      <th>1</th>\n",
              "      <td>__label__sisäministeri</td>\n",
              "      <td>kielitaitolaki   yleinen mahdollisuus säätää p...</td>\n",
              "    </tr>\n",
              "    <tr>\n",
              "      <th>2</th>\n",
              "      <td>__label__opetus- ja kulttuuriministeri</td>\n",
              "      <td>vanhempi jäädä työtön oikeus kokopäiväinen var...</td>\n",
              "    </tr>\n",
              "    <tr>\n",
              "      <th>3</th>\n",
              "      <td>__label__kunta- ja uudistusministeri</td>\n",
              "      <td>oikeusministeriö  pyytää sijoittamisselvitys e...</td>\n",
              "    </tr>\n",
              "    <tr>\n",
              "      <th>4</th>\n",
              "      <td>__label__liikenne- ja viestintäministeri</td>\n",
              "      <td>liikenne  viestintäministeriö   valmiste vaara...</td>\n",
              "    </tr>\n",
              "    <tr>\n",
              "      <th>...</th>\n",
              "      <td>...</td>\n",
              "      <td>...</td>\n",
              "    </tr>\n",
              "    <tr>\n",
              "      <th>2995</th>\n",
              "      <td>__label__perhe- ja peruspalveluministeri</td>\n",
              "      <td>tarvita  käytettävä yliopistollinen keskussair...</td>\n",
              "    </tr>\n",
              "    <tr>\n",
              "      <th>2996</th>\n",
              "      <td>__label__kunta- ja uudistusministeri</td>\n",
              "      <td>keskeinen havainto    yritys  alustatalous sii...</td>\n",
              "    </tr>\n",
              "    <tr>\n",
              "      <th>2997</th>\n",
              "      <td>__label__maatalous- ja ympäristöministeri</td>\n",
              "      <td>päinvastainen tavoite huolima erityinen merial...</td>\n",
              "    </tr>\n",
              "    <tr>\n",
              "      <th>2998</th>\n",
              "      <td>__label__opetus- ja kulttuuriministeri</td>\n",
              "      <td>ehdotettu hallitus valintatapa     käyttää  pe...</td>\n",
              "    </tr>\n",
              "    <tr>\n",
              "      <th>2999</th>\n",
              "      <td>__label__oikeus- ja työministeri</td>\n",
              "      <td>laki soveltaa  henkilö   oleskeluoikeus  rekis...</td>\n",
              "    </tr>\n",
              "  </tbody>\n",
              "</table>\n",
              "<p>3000 rows × 2 columns</p>\n",
              "</div>"
            ],
            "text/plain": [
              "                                          label                                        preprocseed\n",
              "0     __label__maatalous- ja ympäristöministeri   vaihtoehto voida    kotitalousvähennys piiri ...\n",
              "1                        __label__sisäministeri  kielitaitolaki   yleinen mahdollisuus säätää p...\n",
              "2        __label__opetus- ja kulttuuriministeri  vanhempi jäädä työtön oikeus kokopäiväinen var...\n",
              "3          __label__kunta- ja uudistusministeri  oikeusministeriö  pyytää sijoittamisselvitys e...\n",
              "4      __label__liikenne- ja viestintäministeri  liikenne  viestintäministeriö   valmiste vaara...\n",
              "...                                         ...                                                ...\n",
              "2995   __label__perhe- ja peruspalveluministeri  tarvita  käytettävä yliopistollinen keskussair...\n",
              "2996       __label__kunta- ja uudistusministeri  keskeinen havainto    yritys  alustatalous sii...\n",
              "2997  __label__maatalous- ja ympäristöministeri  päinvastainen tavoite huolima erityinen merial...\n",
              "2998     __label__opetus- ja kulttuuriministeri  ehdotettu hallitus valintatapa     käyttää  pe...\n",
              "2999           __label__oikeus- ja työministeri  laki soveltaa  henkilö   oleskeluoikeus  rekis...\n",
              "\n",
              "[3000 rows x 2 columns]"
            ]
          },
          "metadata": {
            "tags": []
          },
          "execution_count": 66
        }
      ]
    },
    {
      "cell_type": "markdown",
      "metadata": {
        "id": "CUZBzydSkyZa"
      },
      "source": [
        "# Mallin testaus"
      ]
    },
    {
      "cell_type": "code",
      "metadata": {
        "id": "VoHbKN-tkuCv",
        "colab": {
          "base_uri": "https://localhost:8080/"
        },
        "outputId": "badb85e1-adc9-4154-d371-85f66bf6d000"
      },
      "source": [
        "ft_classifier.test(\"data/test_ft.txt\", 1)\n",
        "#Taas tämä fasttextin \"P@1 ja R@1\", predictillä mielenkiintoisempia tuloksia"
      ],
      "execution_count": null,
      "outputs": [
        {
          "output_type": "execute_result",
          "data": {
            "text/plain": [
              "(3000, 0.662, 0.662)"
            ]
          },
          "metadata": {
            "tags": []
          },
          "execution_count": 40
        }
      ]
    },
    {
      "cell_type": "code",
      "metadata": {
        "id": "UiuaoBEfn8zq"
      },
      "source": [
        ""
      ],
      "execution_count": null,
      "outputs": []
    },
    {
      "cell_type": "markdown",
      "metadata": {
        "id": "_VO6jkman-BN"
      },
      "source": [
        "Ajatuskoe: mallin tarkkuus\n",
        "Minkä takia ei ole suotavaa testata vain ja ainoastaan kuinka monta ennustetta meni oikein ja kuinka moni väärin"
      ]
    },
    {
      "cell_type": "markdown",
      "metadata": {
        "id": "dBZiz505k1Lh"
      },
      "source": [
        "# Mallin soveltaminen"
      ]
    },
    {
      "cell_type": "markdown",
      "metadata": {
        "id": "AnXT3JSUadIz"
      },
      "source": [
        "Haetaan ulkopuolinen datalähde ja testataan mallin soveltuvuutta. Tässä tapauksessa ministerien twiittejä"
      ]
    },
    {
      "cell_type": "code",
      "metadata": {
        "id": "_4HHLmJBk3Sw",
        "colab": {
          "base_uri": "https://localhost:8080/"
        },
        "outputId": "ae70021e-02a5-477b-c074-2d794f636ac2"
      },
      "source": [
        "ft_classifier.predict(preprocess_row(\"Keskustelemme myös metsäpolitiikasta. Suomen viesti on selvä; metsäpolitiikka kuuluu kansalliseen päätösvaltaan. Metsäpolitiikassa on huomioitava kokonaiskestävyys. Metsät ovat sekä että luonnonvara - hyödynnämme niitä sosiaalisesti, taloudellisesti ja ympäristön näkökulmasta.\", stopwords), k=1)"
      ],
      "execution_count": null,
      "outputs": [
        {
          "output_type": "execute_result",
          "data": {
            "text/plain": [
              "(('__label__liikenne-_ja_viestintäministeri',), array([0.74716926]))"
            ]
          },
          "metadata": {
            "tags": []
          },
          "execution_count": 45
        }
      ]
    },
    {
      "cell_type": "code",
      "metadata": {
        "colab": {
          "base_uri": "https://localhost:8080/"
        },
        "id": "84wMxiAAGMbK",
        "outputId": "df9e3be7-d14d-4ddc-954d-715afc41bfcd"
      },
      "source": [
        "ft_classifier.predict(preprocess_row(\"Tein tänään virtuaalivierailun Porin prikaatin Niinisalon varuskuntaan. Sain esittelyn varuskunnan toiminnasta ja tilaisuuden keskustella henkilökunnan ja varusmiesten kanssa. Tämä taisi olla maamme historian ensimmäinen ministerin etävierailu varuskuntaan. Kannatti tehdä.\", stopwords), k=1)"
      ],
      "execution_count": null,
      "outputs": [
        {
          "output_type": "execute_result",
          "data": {
            "text/plain": [
              "(('__label__puolustusministeri',), array([0.53632289]))"
            ]
          },
          "metadata": {
            "tags": []
          },
          "execution_count": 42
        }
      ]
    },
    {
      "cell_type": "code",
      "metadata": {
        "colab": {
          "base_uri": "https://localhost:8080/"
        },
        "id": "d91AWG1FH6qq",
        "outputId": "cef7a382-75db-4671-c5c4-6d987fbf9c58"
      },
      "source": [
        "ft_classifier.predict(preprocess_row(\"Arvokas näkemystenvaihto @antonioguterres kanssa Etiopian Tigrayn alueen humanitaarisesta kriisistä. Suomi ja EU vaativat avun esteetöntä pääsyä ja kansainvälisen oikeuden kunnioittamista. YK:lla ja kansainvälisillä järjestöillä on avainrooli avun saamisessa alueelle.\", stopwords), k=1) "
      ],
      "execution_count": null,
      "outputs": [
        {
          "output_type": "execute_result",
          "data": {
            "text/plain": [
              "(('__label__ulkoministeri',), array([0.78391021]))"
            ]
          },
          "metadata": {
            "tags": []
          },
          "execution_count": 43
        }
      ]
    },
    {
      "cell_type": "code",
      "metadata": {
        "id": "uRAX96PebIJI"
      },
      "source": [
        "def predict_text(text, preprocess = True):\n",
        "  if preprocess:\n",
        "    return ft_classifier.predict(preprocess_row(text))\n",
        "  else:\n",
        "    return ft_classifier.predict(text)"
      ],
      "execution_count": null,
      "outputs": []
    },
    {
      "cell_type": "code",
      "metadata": {
        "id": "vRJz9ngfiBQ0"
      },
      "source": [
        ""
      ],
      "execution_count": null,
      "outputs": []
    }
  ]
}